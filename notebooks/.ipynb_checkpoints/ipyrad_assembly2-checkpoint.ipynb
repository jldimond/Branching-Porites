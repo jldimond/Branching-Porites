{
 "cells": [
  {
   "cell_type": "markdown",
   "metadata": {},
   "source": [
    "# RADseq data assembly for branching _Porites_ spp."
   ]
  },
  {
   "cell_type": "markdown",
   "metadata": {},
   "source": [
    "This is an assembly of ddRADseq and EpiRADseq data for branching _Porites_ spp. corals from Belize. Data files constitute 100bp paired-end reads on the Illumina HiSeq4000. 96 samples were prepared on a 96 well plate and can be identified by their unique combination of indices and barcodes. The 12 indices were grouped into 12 separate libraries that were submitted for sequencing. They were combined in equimolar ratios on 1 HiSeq4000 lane.\n",
    "\n",
    "Further information on these data can be found here: https://github.com/jldimond/jldimond-fish546-2016/tree/master/data/readme.md"
   ]
  },
  {
   "cell_type": "code",
   "execution_count": 1,
   "metadata": {
    "collapsed": false,
    "scrolled": true
   },
   "outputs": [
    {
     "name": "stdout",
     "output_type": "stream",
     "text": [
      "/Volumes/toaster/jdimond/Branching-Porites/notebooks\r\n"
     ]
    }
   ],
   "source": [
    "!pwd"
   ]
  },
  {
   "cell_type": "code",
   "execution_count": 15,
   "metadata": {
    "collapsed": false
   },
   "outputs": [
    {
     "name": "stdout",
     "output_type": "stream",
     "text": [
      "/Volumes/toaster/jdimond/Branching-Porites/data/Raw_data_JD001\n"
     ]
    }
   ],
   "source": [
    "cd ../data/Raw_data_JD001"
   ]
  },
  {
   "cell_type": "code",
   "execution_count": null,
   "metadata": {
    "collapsed": true
   },
   "outputs": [],
   "source": [
    "#raw data files must be downloaded (approx. 32GB)\n",
    "!wget -r --no-parent http://owl.fish.washington.edu/nightingales/Porites_spp/"
   ]
  },
  {
   "cell_type": "code",
   "execution_count": 3,
   "metadata": {
    "collapsed": false
   },
   "outputs": [
    {
     "name": "stdout",
     "output_type": "stream",
     "text": [
      "JD001_A_S21_L004_R1_001.fastq.gz     JD001_G_S27_L004_R2_001.fastq.gz\r\n",
      "JD001_A_S21_L004_R2_001.fastq.gz     JD001_H_S28_L004_R1_001.fastq.gz\r\n",
      "JD001_B_S22_L004_R1_001.fastq.gz     JD001_H_S28_L004_R2_001.fastq.gz\r\n",
      "JD001_B_S22_L004_R2_001.fastq.gz     JD001_I_S29_L004_R1_001.fastq.gz\r\n",
      "JD001_C_S23_L004_R1_001.fastq.gz     JD001_I_S29_L004_R2_001.fastq.gz\r\n",
      "JD001_C_S23_L004_R2_001.fastq.gz     JD001_J_S30_L004_R1_001.fastq.gz\r\n",
      "JD001_D_S24_L004_R1_001.fastq.gz     JD001_J_S30_L004_R2_001.fastq.gz\r\n",
      "JD001_D_S24_L004_R2_001.fastq.gz     JD001_K_S31_L004_R1_001.fastq.gz\r\n",
      "JD001_E_S25_L004_R1_001.fastq.gz     JD001_K_S31_L004_R2_001.fastq.gz\r\n",
      "JD001_E_S25_L004_R2_001.fastq.gz     JD001_L_S32_L004_R1_001.fastq.gz\r\n",
      "JD001_F_S26_L004_R1_001.fastq.gz     JD001_L_S32_L004_R2_001.fastq.gz\r\n",
      "JD001_F_S26_L004_R2_001.fastq.gz     Undetermined_S0_L004_R1_001.fastq.gz\r\n",
      "JD001_G_S27_L004_R1_001.fastq.gz     Undetermined_S0_L004_R2_001.fastq.gz\r\n"
     ]
    }
   ],
   "source": [
    "!ls"
   ]
  },
  {
   "cell_type": "code",
   "execution_count": 4,
   "metadata": {
    "collapsed": false
   },
   "outputs": [
    {
     "name": "stdout",
     "output_type": "stream",
     "text": [
      "@K00188:197:HFL2KBBXX:4:1101:1570:1508 1:N:0:NTCACG\r\n",
      "TGCATTGCCGTGGTTTTTCACTTCGCGGCCGTCCAGTCGAGCTGTGGAATGAAATGTCCTGGCAGGCGGGTGATAGCATGCATACTTAATAATACGCGAG\r\n",
      "+\r\n",
      "A-AF<<<---7AAAAFJJF<F-FFA<7-7F-FF<JJJFFJFFJJ-7A7---<7F--<--<-A-FJF---7--F7JJ7AAF-<-FAFJJJFFJJJ<<<-A7\r\n",
      "@K00188:197:HFL2KBBXX:4:1101:2828:1508 1:N:0:NTCACG\r\n",
      "TGCATCGCACTCGAGCTACAGTCGAGCTAGCTTAGTACGGCAGTAGCACGACGTTTGAAACAGGACTAATGTTAGTAAACTGAAATTTTTTAAAGGAGCG\r\n",
      "+\r\n",
      "A<AFFJ--77AA<J<F<FFJJFJAFJJJFFFJFJ<FFFFFFJFJJJJFJAFJ<A<J<FJFJ<---AFAJ<A-JJJ-FJJJ-FJJ7<F-7A7F-FJJF-77\r\n",
      "@K00188:197:HFL2KBBXX:4:1101:3031:1508 1:N:0:NTCACG\r\n",
      "TGCATTGCAGCGCGTTGTCGAACGGCAGGGACATCCACGGGCAAGGTGTGGACTTGCGCTTGACCTTCTCGGGGCGTTAAATGACTCCACAATCGGTAGC\r\n",
      "+\r\n",
      "AAFFF-7<-<77F<JJJFJJAJJJJJ<FFJJJ<<AAFJ<-<<JFFJFJJJAJJ7-FF7<FJJJF-AJFAFJJAJJ7-FFAJJJA7-FAJAJFFJAFFFJJ\r\n",
      "gunzip: error writing to output: Broken pipe\r\n",
      "gunzip: JD001_A_S21_L004_R1_001.fastq.gz: uncompress failed\r\n"
     ]
    }
   ],
   "source": [
    "## a peak at at read 1 file\n",
    "!gunzip -c JD001_A_S21_L004_R1_001.fastq.gz | head -n 12"
   ]
  },
  {
   "cell_type": "code",
   "execution_count": 5,
   "metadata": {
    "collapsed": false,
    "scrolled": true
   },
   "outputs": [
    {
     "name": "stdout",
     "output_type": "stream",
     "text": [
      "@K00188:197:HFL2KBBXX:4:1101:1570:1508 2:N:0:NTCACG\r\n",
      "NGCGGATTTGTTAAGCCTGCGCACGTTTTATAAATTTTACGTACACTTAAGTTTTCGCACATTTTATTAAGTTTGCATGCGTTCTGTTTAGAAGTTTGCA\r\n",
      "+\r\n",
      "#---<77A-FJ-FF7AF7--7FJJJ7-7FFFFJJJ-FFAJFJFJJFJJ<--JA<JJJ<JJJ7<F<F7FF<FFJA7AA-7-7-<7-A--FJJ--FF-----\r\n",
      "@K00188:197:HFL2KBBXX:4:1101:2828:1508 2:N:0:NTCACG\r\n",
      "NCCATTCAAGAATCTGGATTACCTAACATAAAGCGATACCTTAGTTGCTTACTAACATTTAAAACCACCCACCATCACAGTCATTTCCATTCTTTACGAA\r\n",
      "+\r\n",
      "#-<7<-FJJJAAFJ7JAJJ<FJJJFJJJJJJFJJFJFJJJF-FJAFFJFAJJ<JFJJFFAJJAAJJJJFJFJJFFJFJJJ-FF-FAFJFFFF--7-A7FF\r\n",
      "@K00188:197:HFL2KBBXX:4:1101:3031:1508 2:N:0:NTCACG\r\n",
      "NGGACAAATGCGTCTTGGATTTGTTCACCAAAGATTCCCATCATCGCAACATCACCGTGCCCTATTTGACGCAACATTTATTCCCGCCTGGGAAATTCTC\r\n",
      "+\r\n",
      "#7<<FFJA-FJF-F-<7F7-77<FAJ<JJJJJJJJJJJJJJFAJJJJJJJJ-FFJFJ-FJ--AFF-JA<FFFJJJFFJFJJFJJJAF7-A<JAJJ<-7FJ\r\n",
      "@K00188:197:HFL2KBBXX:4:1101:4411:1508 2:N:0:NTCACG\r\n",
      "NGGAAGATAAACCATAGGCTCCGTCTCACAACCCTTGCACACACAGCTGTAAAGTGGTAAAGAGTATGGAACGTAGTCCCCCCGTTGTGGTGGTCGATCT\r\n",
      "+\r\n",
      "#<-<FFJJJJJJJJJJJJJJJJJJJJJJJJJJJJJJJFJJJJJJFJJJJFJJJJAJJFJJJJJJJJJJJJJJJFJJFFJJJJJJ<FJJJJJJJJJJFJJ<\r\n",
      "@K00188:197:HFL2KBBXX:4:1101:4777:1508 2:N:0:NTCACG\r\n",
      "NGCCCACAAAAATACAGCACAAATGAGTTTCAGATGCCTGTGGTTGGACTGCTTTTAGGTTGTACCCGACAATGATACTATACAGATTAGATAATGTTTC\r\n",
      "+\r\n",
      "#77<<FFJJJJJJJJJJJJJJJJJJJFJJJJJJJJJJJJJJJJJJFJJJJFJJJJJJJFJJJJJJJJ<<JJFJFJJFJJJJJJJJJJJJJJJJJJAJJJJ\r\n",
      "@K00188:197:HFL2KBBXX:4:1101:4898:1508 2:N:0:NTCACG\r\n",
      "NGGTCAATTAATGTCGGATCTTTGGAAAGGAACGGACCGCTGGACCGTTTGAGATGATGAACCAAAAGATAAAAAGGGGGTTCTAACGCGTGAACTAATC\r\n",
      "+\r\n",
      "#7<<A--AFJ<7FFFJ<JFJJFJFJJFJJJ<AJJFJJJFJJ7J<AFJFFJFFJJ<FFFFJJJJJFAFFA-FJJFAFFJJJ<JJ<JJJJJJ-AJ7FJFFJF\r\n",
      "@K00188:197:HFL2KBBXX:4:1101:5203:1508 2:N:0:NTCACG\r\n",
      "NGGCGGCTTCTTTACCACGAAAGACTTTGATGTTGAACACGGTCACTACAGATAAGTCTGCATGCTATCGGCTCTCGAGGATCGTAAAAGAAGAGAGCAA\r\n",
      "+\r\n",
      "#--<-AAFAFJFAJF7JFJJJJJJFFJJFJJFFF-JJFJ<A7J-FFFJFJFJFJJFJJJJ7AF-<FAFA--<A7A<<AAFAAF<AJJJJFJJJFFJ7FFF\r\n",
      "@K00188:197:HFL2KBBXX:4:1101:5304:1508 2:N:0:NTCACG\r\n",
      "NGGCTTATTTGGTGTCAGTAAAGGAACGAGTAATATATTTATGTATCCTAAACTAAATTTATGATATCGTTGTGGAAAGTGCCACGAAGAACAAGTAGAA\r\n",
      "gunzip: error writing to output: Broken pipe\r\n",
      "gunzip: JD001_A_S21_L004_R2_001.fastq.gz: uncompress failed\r\n"
     ]
    }
   ],
   "source": [
    "## Now let's look at read 2\n",
    "!gunzip -c JD001_A_S21_L004_R2_001.fastq.gz | head -n 30"
   ]
  },
  {
   "cell_type": "code",
   "execution_count": 6,
   "metadata": {
    "collapsed": false,
    "scrolled": false
   },
   "outputs": [
    {
     "name": "stdout",
     "output_type": "stream",
     "text": [
      " 88358900\r\n"
     ]
    }
   ],
   "source": [
    "!gunzip -c JD001_A_S21_L004_R1_001.fastq.gz | wc -l"
   ]
  },
  {
   "cell_type": "code",
   "execution_count": 7,
   "metadata": {
    "collapsed": false
   },
   "outputs": [
    {
     "name": "stdout",
     "output_type": "stream",
     "text": [
      " 88358900\r\n"
     ]
    }
   ],
   "source": [
    "#Reads 1 and 2 should have identical numbers of records\n",
    "!gunzip -c JD001_A_S21_L004_R2_001.fastq.gz | wc -l"
   ]
  },
  {
   "cell_type": "code",
   "execution_count": 18,
   "metadata": {
    "collapsed": false
   },
   "outputs": [
    {
     "name": "stdout",
     "output_type": "stream",
     "text": [
      "/Volumes/toaster/jdimond/Branching-Porites/data\n"
     ]
    }
   ],
   "source": [
    "cd .."
   ]
  },
  {
   "cell_type": "code",
   "execution_count": 19,
   "metadata": {
    "collapsed": false,
    "scrolled": false
   },
   "outputs": [
    {
     "name": "stdout",
     "output_type": "stream",
     "text": [
      "80_epi\tTGCAT\r\n",
      "80_ddr\tAAGGA\r\n",
      "116_epi\tGCATG\r\n",
      "108_epi\tAACCA\r\n",
      "98_ddr\tCAACC\r\n",
      "82_epi\tTCGAT\r\n",
      "116_ddr\tCGATC\r\n",
      "102_epi\tGGTTG"
     ]
    }
   ],
   "source": [
    "##Barcodes file for library A.\n",
    "!cat barcodes_A.txt"
   ]
  },
  {
   "cell_type": "markdown",
   "metadata": {},
   "source": [
    "# Create a _Symbiodinium_ genome database to filter out symbiont reads"
   ]
  },
  {
   "cell_type": "markdown",
   "metadata": {},
   "source": [
    "The _Symbiodinium microadriaticum_ (clade A, most ancestral lineage) genome from:\n",
    "\n",
    "Aranda, M., Li, Y., Liew, Y.J., Baumgarten, S., Simakov, O., Wilson, M.C., Piel, J., Ashoor, H., Bougouffa, S., Bajic, V.B. and Ryu, T., 2016. Genomes of coral dinoflagellate symbionts highlight evolutionary adaptations conducive to a symbiotic lifestyle. Scientific Reports, 6."
   ]
  },
  {
   "cell_type": "code",
   "execution_count": 21,
   "metadata": {
    "collapsed": false
   },
   "outputs": [
    {
     "name": "stdout",
     "output_type": "stream",
     "text": [
      "/Volumes/toaster/jdimond/Branching-Porites/data/Sym_genome\n"
     ]
    }
   ],
   "source": [
    "cd ./Sym_genome"
   ]
  },
  {
   "cell_type": "code",
   "execution_count": 22,
   "metadata": {
    "collapsed": false
   },
   "outputs": [
    {
     "name": "stdout",
     "output_type": "stream",
     "text": [
      "--2017-02-13 09:21:04--  ftp://ftp.ncbi.nlm.nih.gov/genomes/all/GCA/001/939/145/GCA_001939145.1_ASM193914v1/GCA_001939145.1_ASM193914v1_genomic.fna.gz\n",
      "           => 'GCA_001939145.1_ASM193914v1_genomic.fna.gz'\n",
      "Resolving ftp.ncbi.nlm.nih.gov... 130.14.250.10, 2607:f220:41e:250::10\n",
      "Connecting to ftp.ncbi.nlm.nih.gov|130.14.250.10|:21... connected.\n",
      "Logging in as anonymous ... Logged in!\n",
      "==> SYST ... done.    ==> PWD ... done.\n",
      "==> TYPE I ... done.  ==> CWD (1) /genomes/all/GCA/001/939/145/GCA_001939145.1_ASM193914v1 ... done.\n",
      "==> SIZE GCA_001939145.1_ASM193914v1_genomic.fna.gz ... 233167110\n",
      "==> PASV ... done.    ==> RETR GCA_001939145.1_ASM193914v1_genomic.fna.gz ... done.\n",
      "Length: 233167110 (222M) (unauthoritative)\n",
      "\n",
      "GCA_001939145.1_ASM 100%[=====================>] 222.37M  5.92MB/s   in 36s    \n",
      "\n",
      "2017-02-13 09:21:41 (6.20 MB/s) - 'GCA_001939145.1_ASM193914v1_genomic.fna.gz' saved [233167110]\n",
      "\n"
     ]
    }
   ],
   "source": [
    "!wget ftp://ftp.ncbi.nlm.nih.gov/genomes/all/GCA/001/939/145/GCA_001939145.1_ASM193914v1/GCA_001939145.1_ASM193914v1_genomic.fna.gz"
   ]
  },
  {
   "cell_type": "code",
   "execution_count": 23,
   "metadata": {
    "collapsed": false
   },
   "outputs": [
    {
     "name": "stdout",
     "output_type": "stream",
     "text": [
      ">LSRX01000001.1 Symbiodinium microadriaticum strain CCMP2467 Smic.scaffold1, whole genome shotgun sequence\r\n",
      "tacaagagtgctgcctgctggcgagagagtccactattgagaagcttcgaagtaaagaattctgagctatggctgcaaag\r\n",
      "agccccagcaagtgccgtgtgtggggagctgggactaccctccctagagagagagcGCCACATCAACTGCCAGGTTCCCA\r\n",
      "CAATCTCCCTGTGCATGGTACTGTGCACCTGTAATCCAGAGAAGAAATTGCGGAAGTTCAGGTGGCATCATCGCGTCTTG\r\n",
      "CATGCCAAGGTTTATCTTGCGTTGGGACCAGTCAATTGGCAGTGCGACTGcgaatcctccaaaccctgtcgTTGGTGGTC\r\n",
      "CGCTCGCCGCTGATTTATGTTTTGGGTCCTGCGTTTGACACAAGATCCGAACTGCATAGCAAGTCTAAATGCCTGGACAT\r\n",
      "AGCTGAGATCTCGTCGCCAGATCTCcgacagaccttgccaggcttggttAACATGACTGGACGTCAACTTGTTCAGTTTG\r\n",
      "AGTCTTGATGTGTTGCTACAGCTCCGGCCTGTGGATACGAGGTGCACTGCTTGATTTGAGCGCATGAAGAGGAAGTAAAT\r\n",
      "GGCGAGAGCCTCGACTacgaagtttagtgtttagcatcATGAAAAGTGTTTGCAGCGACCAGTCCGTGTAGTCGGAGAAT\r\n",
      "GTCTGAAAGTTCATGCTCGTCCCTCGCATTCCGATATTTCATGTTCATGACTTCTGTATCGGTCACTCAGCATGCGTAAC\r\n",
      "TACGTATTGAAATCGACACAGCAGCTCCGACGAGTGAGAGGTGGCTTCACGAGTGATAAACCAAGTTGTTTGCTGACTAA\r\n",
      "TCTTGGTTTCGAAAAGGCACTTATCCCCAACAAAATCCACCCGTTTTTTTTTTACTCTTCAGATTTCTCTTCAGATCCAA\r\n",
      "TATCAAACTGCAATGTGAACCCCACATTTAAAgaaaattttcggaaagttcaaaggttcaaggcttcacatGTGCTCTTC\r\n",
      "CGATCTCCAGTCTGTAATGCAAGGGGAGTTGTCTTCTAAGTGCACTGCTGTGAGACCAATCTGCATCTCTGCCAACTACA\r\n",
      "ACTCTTGTTGTAGCACTGCGAATCTGCAGAGCGCTGCCTTAGGGATCTGCAGAGTGCATCGGTTTCAAAAGGTTCTTGTT\r\n",
      "GCCTAAACTGCAATGTACGCTTGCAGAAAAATCACTTCAAGTCGGCAGAAGCTGGAAACTGCAGCGTGCACCTGCTATTC\r\n",
      "GGTGTTTGAGCCTTGCGAGCAGATCAACGGCCCAGAATTGCAGTGCACTCCTGCAAACATACTTCAGACTCTGGAGAAGC\r\n",
      "TCGAAACTGCAGTGTGCAGCGAGTTGAGTGTTTCAGCCTTCTCCACATCTGGAGTTGCCTGCAAATACAGAACAGAAACT\r\n",
      "GCATTTCAAAGTCTGCGTCTAAAGTCTCGCTGCAGCAACTGAAACCTCCTTTCTGCGACCAGTCTCATGCTGCCTTATAA\r\n",
      "CGGCTGCAAAACAAGCAACCATCTCCTCCTGCGTTCCTCCAATGCAACCACCCATGGCCGTCAACACCTCTGCTTGAGCT\r\n",
      "TGCATAGGCACAGACAGTCGAGAAGTGGGCTTGCCTGCAGGATCTTTCAGTAAGGATTCTATAGCCTTCGTAAACAGGCT\r\n",
      "GTTCATGTCCTCTTCAGTCTTCTTCTTGCTCGCTGCAGctttcttctgcttcctccAAGCCGAGCCTGCTTCTCTACAGC\r\n",
      "TTTCTCCTTCGTGTCCAAATCTACTCCTTCTGCAATGCCTTGCAGagtctgcagccttgcagcccaagcAGAGATGCATG\r\n",
      "ATGAGCAGAAGCACACTCCAGATGTTTTTTGGCTCCTTCTACGTGTTATtttcagaagcagctgaagactgACCAAAAAA\r\n",
      "AGATTCAATCAGAGACCTTTTTTAGGGCCGAAATTTGCAGCATTGGCTTCATCGAACCAGCTTTGGTGTTCGCACGTCAA\r\n",
      "TTCCGTCGGTTGGAGACCGCTGGGTTTCCGGGTGGAGCTGCATCCGAGACTCTTCGGagaggggcttcgagtttgttttt\r\n",
      "gaagcctttgaaagtAAAGGGTCCAAGGAAGGAGGCGTTGAACGGAGAGAGGCTTGGAAGACTTCGAAGTCAGAACGAAA\r\n",
      "GCTTGAAAGGTGAGaacgaaggcttcaaagccgaAGAGTGAGGACGAAGGCATCAAAGAGAAGGATGAAGAGAGGACTTT\r\n",
      "GCTTGCAAAGACTCtaagaggtttttgggcttgtaaaaTCGATTGAGGTCTTCAGTAGCAATCTCCAGCAAGAATTGCAT\r\n",
      "TTGCAGCAAGAACCAGGGAGCCATTTTCCGCGTTGTGTGCAATCTCTTGAAAGTTTCGCTAGCAATGAACAGAATGGGAC\r\n",
      "gunzip: error writing to output: Broken pipe\r\n",
      "gunzip: GCA_001939145.1_ASM193914v1_genomic.fna.gz: uncompress failed\r\n"
     ]
    }
   ],
   "source": [
    "!gunzip -c GCA_001939145.1_ASM193914v1_genomic.fna.gz | head -n 30"
   ]
  },
  {
   "cell_type": "code",
   "execution_count": 9,
   "metadata": {
    "collapsed": true
   },
   "outputs": [],
   "source": [
    "!gunzip /Volumes/toaster/jdimond/Branching-Porites/data/Sym_genome/GCA_001939145.1_ASM193914v1_genomic.fna.gz"
   ]
  },
  {
   "cell_type": "markdown",
   "metadata": {},
   "source": [
    "# Now the raw RAD reads must be demultiplexed"
   ]
  },
  {
   "cell_type": "markdown",
   "metadata": {},
   "source": [
    "## Create an ipyrad params file for each library with the correct path to the barcodes file\n"
   ]
  },
  {
   "cell_type": "code",
   "execution_count": 2,
   "metadata": {
    "collapsed": false
   },
   "outputs": [
    {
     "name": "stdout",
     "output_type": "stream",
     "text": [
      "/Volumes/toaster/jdimond/Branching-Porites/analyses/ipyrad_analysis\n"
     ]
    }
   ],
   "source": [
    "cd ../../analyses/ipyrad_analysis"
   ]
  },
  {
   "cell_type": "code",
   "execution_count": 26,
   "metadata": {
    "collapsed": false
   },
   "outputs": [
    {
     "name": "stdout",
     "output_type": "stream",
     "text": [
      "\r\n",
      "    New file 'params-data1_A.txt' created in /Volumes/toaster/jdimond/Branching-Porites/analyses/ipyrad_analysis\r\n",
      "\r\n"
     ]
    }
   ],
   "source": [
    "#ipyrad uses a simple text file to hold all the parameters for a given assembly. \n",
    "#Start by creating a new params file using the -n flag, followed by a name for your assembly.\n",
    "#Start with a file for library JD001_A\n",
    "!ipyrad -n data1_A"
   ]
  },
  {
   "cell_type": "markdown",
   "metadata": {},
   "source": [
    "This will create a file in the current directory called params-data1.txt. The params file lists on each line one parameter followed by a ## mark, then the name of the parameter, and then a short description of its purpose. Edit the file in a text editor."
   ]
  },
  {
   "cell_type": "code",
   "execution_count": 30,
   "metadata": {
    "collapsed": false
   },
   "outputs": [
    {
     "name": "stdout",
     "output_type": "stream",
     "text": [
      "------- ipyrad params file (v.0.5.15)-------------------------------------------\r\n",
      "data1_A                        ## [0] [assembly_name]: Assembly name. Used to name output directories for assembly steps\r\n",
      "./                             ## [1] [project_dir]: Project dir (made in curdir if not present)\r\n",
      "../../data/Raw_data_JD001/JD001_A*.fastq.gz                               ## [2] [raw_fastq_path]: Location of raw non-demultiplexed fastq files\r\n",
      "../../data/barcodes_A.txt                        ## [3] [barcodes_path]: Location of barcodes file\r\n",
      "                               ## [4] [sorted_fastq_path]: Location of demultiplexed/sorted fastq files\r\n",
      "denovo-reference                         ## [5] [assembly_method]: Assembly method (denovo, reference, denovo+reference, denovo-reference)\r\n",
      "../../data/Sym_genome/GCA_001939145.1_ASM193914v1_genomic.fna.gz                               ## [6] [reference_sequence]: Location of reference sequence file\r\n",
      "pairddrad                           ## [7] [datatype]: Datatype (see docs): rad, gbs, ddrad, etc.\r\n",
      "TGCAG, NGG                         ## [8] [restriction_overhang]: Restriction overhang (cut1,) or (cut1, cut2)\r\n",
      "5                              ## [9] [max_low_qual_bases]: Max low quality base calls (Q<20) in a read\r\n",
      "33                             ## [10] [phred_Qscore_offset]: phred Q score offset (33 is default and very standard)\r\n",
      "6                              ## [11] [mindepth_statistical]: Min depth for statistical base calling\r\n",
      "6                              ## [12] [mindepth_majrule]: Min depth for majority-rule base calling\r\n",
      "10000                          ## [13] [maxdepth]: Max cluster depth within samples\r\n",
      "0.90                           ## [14] [clust_threshold]: Clustering threshold for de novo assembly\r\n",
      "0                              ## [15] [max_barcode_mismatch]: Max number of allowable mismatches in barcodes\r\n",
      "1                              ## [16] [filter_adapters]: Filter for adapters/primers (1 or 2=stricter)\r\n",
      "35                             ## [17] [filter_min_trim_len]: Min length of reads after adapter trim\r\n",
      "2                              ## [18] [max_alleles_consens]: Max alleles per site in consensus sequences\r\n",
      "5, 5                           ## [19] [max_Ns_consens]: Max N's (uncalled bases) in consensus (R1, R2)\r\n",
      "8, 8                           ## [20] [max_Hs_consens]: Max Hs (heterozygotes) in consensus (R1, R2)\r\n",
      "25                              ## [21] [min_samples_locus]: Min # samples per locus for output\r\n",
      "20, 20                         ## [22] [max_SNPs_locus]: Max # SNPs per locus (R1, R2)\r\n",
      "8, 8                           ## [23] [max_Indels_locus]: Max # of indels per locus (R1, R2)\r\n",
      "0.5                            ## [24] [max_shared_Hs_locus]: Max # heterozygous sites per locus (R1, R2)\r\n",
      "0, 0                           ## [25] [edit_cutsites]: Edit cut-sites (R1, R2) (see docs)\r\n",
      "0, 0, 0, 0                     ## [26] [trim_overhang]: Trim overhang (see docs) (R1>, <R1, R2>, <R2)\r\n",
      "*                     ## [27] [output_formats]: Output formats (see docs)\r\n",
      "                               ## [28] [pop_assign_file]: Path to population assignment file"
     ]
    }
   ],
   "source": [
    "!cat params-data1_A.txt"
   ]
  },
  {
   "cell_type": "markdown",
   "metadata": {},
   "source": [
    "For the demultiplexing step, will need params file for each separate library A-L. Edit the assembly name, raw fastq path, barcode path, and filename in a text editor to create params files A-L. "
   ]
  },
  {
   "cell_type": "markdown",
   "metadata": {},
   "source": [
    "## Run step 1 for each of the 12 JD001 libraries to demultiplex the data"
   ]
  },
  {
   "cell_type": "code",
   "execution_count": 33,
   "metadata": {
    "collapsed": false
   },
   "outputs": [
    {
     "name": "stdout",
     "output_type": "stream",
     "text": [
      "\n",
      " -------------------------------------------------------------\n",
      "  ipyrad [v.0.3.41]\n",
      "  Interactive assembly and analysis of RAD-seq data\n",
      " -------------------------------------------------------------\n",
      "  New Assembly: data1_A\n",
      "  local compute node: [16 cores] on hummingbird.local\n",
      "\n",
      "  Step 1: Demultiplexing fastq data to Samples\n",
      "  [####################] 100%  chunking large files  | 0:10:27 \n",
      "  [####################] 100%  sorting reads         | 0:07:02 \n",
      "  [####################] 100%  writing/compressing   | 2:31:07 \n",
      "\n",
      "  Step 3: Clustering/Mapping reads\n",
      "\n",
      "    Assembly method reference requires that you enter a 'reference_sequence_path'.\n",
      "    \n"
     ]
    }
   ],
   "source": [
    "## -p indicates the params file we wish to use\n",
    "## -s indicates the step to run (in this case 1)\n",
    "!ipyrad -p params-data1_A.txt -s 1"
   ]
  },
  {
   "cell_type": "code",
   "execution_count": 34,
   "metadata": {
    "collapsed": false
   },
   "outputs": [
    {
     "name": "stdout",
     "output_type": "stream",
     "text": [
      "\n",
      " -------------------------------------------------------------\n",
      "  ipyrad [v.0.3.41]\n",
      "  Interactive assembly and analysis of RAD-seq data\n",
      " -------------------------------------------------------------\n",
      "  loading Assembly: data1_B\n",
      "  from saved path: /Volumes/toaster/jdimond/ipyrad_analysis/data1_B.json\n",
      "  New Assembly: data1_B\n",
      "  local compute node: [16 cores] on hummingbird.local\n",
      "\n",
      "  Step 1: Demultiplexing fastq data to Samples\n",
      "  [####################] 100%  chunking large files  | 0:13:02 \n",
      "  [####################] 100%  sorting reads         | 0:09:17 \n",
      "  [####################] 100%  writing/compressing   | 0:43:06 \n",
      "\n",
      "  Step 3: Clustering/Mapping reads\n",
      "\n",
      "    Assembly method reference requires that you enter a 'reference_sequence_path'.\n",
      "    \n"
     ]
    }
   ],
   "source": [
    "## -p indicates the params file we wish to use\n",
    "## -s indicates the step to run (in this case 1)\n",
    "!ipyrad -p params-data1_B.txt -s 1"
   ]
  },
  {
   "cell_type": "code",
   "execution_count": 35,
   "metadata": {
    "collapsed": false
   },
   "outputs": [
    {
     "name": "stdout",
     "output_type": "stream",
     "text": [
      "\n",
      " -------------------------------------------------------------\n",
      "  ipyrad [v.0.3.41]\n",
      "  Interactive assembly and analysis of RAD-seq data\n",
      " -------------------------------------------------------------\n",
      "  New Assembly: data1_C\n",
      "  local compute node: [16 cores] on hummingbird.local\n",
      "\n",
      "  Step 1: Demultiplexing fastq data to Samples\n",
      "  [####################] 100%  chunking large files  | 0:10:34 \n",
      "  [####################] 100%  sorting reads         | 0:07:04 \n",
      "  [####################] 100%  writing/compressing   | 1:10:28 \n",
      "\n",
      "  Step 3: Clustering/Mapping reads\n",
      "\n",
      "    Assembly method reference requires that you enter a 'reference_sequence_path'.\n",
      "    \n"
     ]
    }
   ],
   "source": [
    "## -p indicates the params file we wish to use\n",
    "## -s indicates the step to run (in this case 1)\n",
    "!ipyrad -p params-data1_C.txt -s 1"
   ]
  },
  {
   "cell_type": "code",
   "execution_count": 36,
   "metadata": {
    "collapsed": false
   },
   "outputs": [
    {
     "name": "stdout",
     "output_type": "stream",
     "text": [
      "\n",
      " -------------------------------------------------------------\n",
      "  ipyrad [v.0.3.41]\n",
      "  Interactive assembly and analysis of RAD-seq data\n",
      " -------------------------------------------------------------\n",
      "  New Assembly: data1_D\n",
      "  local compute node: [16 cores] on hummingbird.local\n",
      "\n",
      "  Step 1: Demultiplexing fastq data to Samples\n",
      "  [####################] 100%  chunking large files  | 0:11:03 \n",
      "  [####################] 100%  sorting reads         | 0:07:23 \n",
      "  [####################] 100%  writing/compressing   | 0:47:02 \n",
      "\n",
      "  Step 3: Clustering/Mapping reads\n",
      "\n",
      "    Assembly method reference requires that you enter a 'reference_sequence_path'.\n",
      "    \n"
     ]
    }
   ],
   "source": [
    "## -p indicates the params file we wish to use\n",
    "## -s indicates the step to run (in this case 1)\n",
    "!ipyrad -p params-data1_D.txt -s 1"
   ]
  },
  {
   "cell_type": "code",
   "execution_count": 37,
   "metadata": {
    "collapsed": false
   },
   "outputs": [
    {
     "name": "stdout",
     "output_type": "stream",
     "text": [
      "\n",
      " -------------------------------------------------------------\n",
      "  ipyrad [v.0.3.41]\n",
      "  Interactive assembly and analysis of RAD-seq data\n",
      " -------------------------------------------------------------\n",
      "  New Assembly: data1_E\n",
      "  local compute node: [16 cores] on hummingbird.local\n",
      "\n",
      "  Step 1: Demultiplexing fastq data to Samples\n",
      "  [####################] 100%  chunking large files  | 0:11:14 \n",
      "  [####################] 100%  sorting reads         | 0:07:06 \n",
      "  [####################] 100%  writing/compressing   | 0:39:23 \n",
      "\n",
      "  Step 3: Clustering/Mapping reads\n",
      "\n",
      "    Assembly method reference requires that you enter a 'reference_sequence_path'.\n",
      "    \n"
     ]
    }
   ],
   "source": [
    "## -p indicates the params file we wish to use\n",
    "## -s indicates the step to run (in this case 1)\n",
    "!ipyrad -p params-data1_E.txt -s 1"
   ]
  },
  {
   "cell_type": "code",
   "execution_count": 38,
   "metadata": {
    "collapsed": false
   },
   "outputs": [
    {
     "name": "stdout",
     "output_type": "stream",
     "text": [
      "\n",
      " -------------------------------------------------------------\n",
      "  ipyrad [v.0.3.41]\n",
      "  Interactive assembly and analysis of RAD-seq data\n",
      " -------------------------------------------------------------\n",
      "  New Assembly: data1_F\n",
      "  local compute node: [16 cores] on hummingbird.local\n",
      "\n",
      "  Step 1: Demultiplexing fastq data to Samples\n",
      "  [####################] 100%  chunking large files  | 0:11:30 \n",
      "  [####################] 100%  sorting reads         | 0:08:00 \n",
      "  [####################] 100%  writing/compressing   | 0:57:44 \n",
      "\n",
      "  Step 3: Clustering/Mapping reads\n",
      "\n",
      "    Assembly method reference requires that you enter a 'reference_sequence_path'.\n",
      "    \n"
     ]
    }
   ],
   "source": [
    "## -p indicates the params file we wish to use\n",
    "## -s indicates the step to run (in this case 1)\n",
    "!ipyrad -p params-data1_F.txt -s 1"
   ]
  },
  {
   "cell_type": "code",
   "execution_count": 39,
   "metadata": {
    "collapsed": false
   },
   "outputs": [
    {
     "name": "stdout",
     "output_type": "stream",
     "text": [
      "\n",
      " -------------------------------------------------------------\n",
      "  ipyrad [v.0.3.41]\n",
      "  Interactive assembly and analysis of RAD-seq data\n",
      " -------------------------------------------------------------\n",
      "  New Assembly: data1_G\n",
      "  local compute node: [16 cores] on hummingbird.local\n",
      "\n",
      "  Step 1: Demultiplexing fastq data to Samples\n",
      "  [####################] 100%  chunking large files  | 0:10:29 \n",
      "  [####################] 100%  sorting reads         | 0:07:16 \n",
      "  [####################] 100%  writing/compressing   | 1:10:25 \n",
      "\n",
      "  Step 3: Clustering/Mapping reads\n",
      "\n",
      "    Assembly method reference requires that you enter a 'reference_sequence_path'.\n",
      "    \n"
     ]
    }
   ],
   "source": [
    "## -p indicates the params file we wish to use\n",
    "## -s indicates the step to run (in this case 1)\n",
    "!ipyrad -p params-data1_G.txt -s 1"
   ]
  },
  {
   "cell_type": "code",
   "execution_count": 40,
   "metadata": {
    "collapsed": false
   },
   "outputs": [
    {
     "name": "stdout",
     "output_type": "stream",
     "text": [
      "\n",
      " -------------------------------------------------------------\n",
      "  ipyrad [v.0.3.41]\n",
      "  Interactive assembly and analysis of RAD-seq data\n",
      " -------------------------------------------------------------\n",
      "  New Assembly: data1_H\n",
      "  local compute node: [16 cores] on hummingbird.local\n",
      "\n",
      "  Step 1: Demultiplexing fastq data to Samples\n",
      "  [####################] 100%  chunking large files  | 0:10:24 \n",
      "  [####################] 100%  sorting reads         | 0:06:55 \n",
      "  [####################] 100%  writing/compressing   | 0:45:20 \n",
      "\n",
      "  Step 3: Clustering/Mapping reads\n",
      "\n",
      "    Assembly method reference requires that you enter a 'reference_sequence_path'.\n",
      "    \n"
     ]
    }
   ],
   "source": [
    "## -p indicates the params file we wish to use\n",
    "## -s indicates the step to run (in this case 1)\n",
    "!ipyrad -p params-data1_H.txt -s 1"
   ]
  },
  {
   "cell_type": "code",
   "execution_count": 41,
   "metadata": {
    "collapsed": false
   },
   "outputs": [
    {
     "name": "stdout",
     "output_type": "stream",
     "text": [
      "\n",
      " -------------------------------------------------------------\n",
      "  ipyrad [v.0.3.41]\n",
      "  Interactive assembly and analysis of RAD-seq data\n",
      " -------------------------------------------------------------\n",
      "  New Assembly: data1_I\n",
      "  local compute node: [16 cores] on hummingbird.local\n",
      "\n",
      "  Step 1: Demultiplexing fastq data to Samples\n",
      "  [####################] 100%  chunking large files  | 0:09:42 \n",
      "  [####################] 100%  sorting reads         | 0:05:46 \n",
      "  [####################] 100%  writing/compressing   | 0:54:53 \n",
      "\n",
      "  Step 3: Clustering/Mapping reads\n",
      "\n",
      "    Assembly method reference requires that you enter a 'reference_sequence_path'.\n",
      "    \n"
     ]
    }
   ],
   "source": [
    "## -p indicates the params file we wish to use\n",
    "## -s indicates the step to run (in this case 1)\n",
    "!ipyrad -p params-data1_I.txt -s 1"
   ]
  },
  {
   "cell_type": "code",
   "execution_count": 42,
   "metadata": {
    "collapsed": false
   },
   "outputs": [
    {
     "name": "stdout",
     "output_type": "stream",
     "text": [
      "\n",
      " -------------------------------------------------------------\n",
      "  ipyrad [v.0.3.41]\n",
      "  Interactive assembly and analysis of RAD-seq data\n",
      " -------------------------------------------------------------\n",
      "  New Assembly: data1_J\n",
      "  local compute node: [16 cores] on hummingbird.local\n",
      "\n",
      "  Step 1: Demultiplexing fastq data to Samples\n",
      "  [####################] 100%  chunking large files  | 0:11:10 \n",
      "  [####################] 100%  sorting reads         | 0:06:54 \n",
      "  [####################] 100%  writing/compressing   | 1:10:59 \n",
      "\n",
      "  Step 3: Clustering/Mapping reads\n",
      "\n",
      "    Assembly method reference requires that you enter a 'reference_sequence_path'.\n",
      "    \n"
     ]
    }
   ],
   "source": [
    "## -p indicates the params file we wish to use\n",
    "## -s indicates the step to run (in this case 1)\n",
    "!ipyrad -p params-data1_J.txt -s 1"
   ]
  },
  {
   "cell_type": "code",
   "execution_count": 43,
   "metadata": {
    "collapsed": false
   },
   "outputs": [
    {
     "name": "stdout",
     "output_type": "stream",
     "text": [
      "\n",
      " -------------------------------------------------------------\n",
      "  ipyrad [v.0.3.41]\n",
      "  Interactive assembly and analysis of RAD-seq data\n",
      " -------------------------------------------------------------\n",
      "  New Assembly: data1_K\n",
      "  local compute node: [16 cores] on hummingbird.local\n",
      "\n",
      "  Step 1: Demultiplexing fastq data to Samples\n",
      "  [####################] 100%  chunking large files  | 0:09:49 \n",
      "  [####################] 100%  sorting reads         | 0:06:26 \n",
      "  [####################] 100%  writing/compressing   | 0:54:45 \n",
      "\n",
      "  Step 3: Clustering/Mapping reads\n",
      "\n",
      "    Assembly method reference requires that you enter a 'reference_sequence_path'.\n",
      "    \n"
     ]
    }
   ],
   "source": [
    "## -p indicates the params file we wish to use\n",
    "## -s indicates the step to run (in this case 1)\n",
    "!ipyrad -p params-data1_K.txt -s 1"
   ]
  },
  {
   "cell_type": "code",
   "execution_count": 44,
   "metadata": {
    "collapsed": false
   },
   "outputs": [
    {
     "name": "stdout",
     "output_type": "stream",
     "text": [
      "\n",
      " -------------------------------------------------------------\n",
      "  ipyrad [v.0.3.41]\n",
      "  Interactive assembly and analysis of RAD-seq data\n",
      " -------------------------------------------------------------\n",
      "  New Assembly: data1_L\n",
      "  local compute node: [16 cores] on hummingbird.local\n",
      "\n",
      "  Step 1: Demultiplexing fastq data to Samples\n",
      "  [####################] 100%  chunking large files  | 0:09:30 \n",
      "  [####################] 100%  sorting reads         | 0:06:01 \n",
      "  [####################] 100%  writing/compressing   | 1:07:30 \n",
      "\n",
      "  Step 3: Clustering/Mapping reads\n",
      "\n",
      "    Assembly method reference requires that you enter a 'reference_sequence_path'.\n",
      "    \n"
     ]
    }
   ],
   "source": [
    "## -p indicates the params file we wish to use\n",
    "## -s indicates the step to run (in this case 1)\n",
    "!ipyrad -p params-data1_L.txt -s 1"
   ]
  },
  {
   "cell_type": "markdown",
   "metadata": {},
   "source": [
    "## Now combine demultiplexed sample fastqs into a single directory and run step 2 to filter the reads "
   ]
  },
  {
   "cell_type": "markdown",
   "metadata": {},
   "source": [
    "For the entire analysis to work properly it needs it to start with all samples in a single directory. FASTQs were manually relocated to ./analyses/ipyrad_analysis/data1_fastqs. Some of these FASTQs (any with sample number under 100 or starting with the letter \"w\") were removed because they are not branching Porites spp. and are for separate studies. Also, samples 102 and 120 were compromised during library prep and were removed.\n",
    "\n",
    "Edit a params file with the path to the compiled fastqs (under sorted fastq path), name it \"params-data1_all.txt\", and run step 2 (must run 1 and 2)."
   ]
  },
  {
   "cell_type": "code",
   "execution_count": 7,
   "metadata": {
    "collapsed": false
   },
   "outputs": [
    {
     "name": "stdout",
     "output_type": "stream",
     "text": [
      "------- ipyrad params file (v.0.5.15)-------------------------------------------\r\n",
      "data1                        ## [0] [assembly_name]: Assembly name. Used to name output directories for assembly steps\r\n",
      "./                             ## [1] [project_dir]: Project dir (made in curdir if not present)\r\n",
      "                               ## [2] [raw_fastq_path]: Location of raw non-demultiplexed fastq files\r\n",
      "                               ## [3] [barcodes_path]: Location of barcodes file\r\n",
      "./data1_fastqs/*.fastq.gz            ## [4] [sorted_fastq_path]: Location of demultiplexed/sorted fastq files\r\n",
      "denovo-reference                         ## [5] [assembly_method]: Assembly method (denovo, reference, denovo+reference, denovo-reference)\r\n",
      "../../data/Sym_genome/GCA_001939145.1_ASM193914v1_genomic.fna.gz        ## [6] [reference_sequence]: Location of reference sequence file\r\n",
      "pairddrad                           ## [7] [datatype]: Datatype (see docs): rad, gbs, ddrad, etc.\r\n",
      "TGCAG, NGG                         ## [8] [restriction_overhang]: Restriction overhang (cut1,) or (cut1, cut2)\r\n",
      "5                              ## [9] [max_low_qual_bases]: Max low quality base calls (Q<20) in a read\r\n",
      "33                             ## [10] [phred_Qscore_offset]: phred Q score offset (33 is default and very standard)\r\n",
      "6                              ## [11] [mindepth_statistical]: Min depth for statistical base calling\r\n",
      "6                              ## [12] [mindepth_majrule]: Min depth for majority-rule base calling\r\n",
      "10000                          ## [13] [maxdepth]: Max cluster depth within samples\r\n",
      "0.90                           ## [14] [clust_threshold]: Clustering threshold for de novo assembly\r\n",
      "0                              ## [15] [max_barcode_mismatch]: Max number of allowable mismatches in barcodes\r\n",
      "1                              ## [16] [filter_adapters]: Filter for adapters/primers (1 or 2=stricter)\r\n",
      "35                             ## [17] [filter_min_trim_len]: Min length of reads after adapter trim\r\n",
      "2                              ## [18] [max_alleles_consens]: Max alleles per site in consensus sequences\r\n",
      "5, 5                           ## [19] [max_Ns_consens]: Max N's (uncalled bases) in consensus (R1, R2)\r\n",
      "8, 8                           ## [20] [max_Is_consens]: Max Hs (heterozygotes) in consensus (R1, R2)\r\n",
      "25                              ## [21] [min_samples_locus]: Min # samples per locus for output\r\n",
      "20, 20                         ## [22] [max_SNPs_locus]: Max # SNPs per locus (R1, R2)\r\n",
      "8, 8                           ## [23] [max_Indels_locus]: Max # of indels per locus (R1, R2)\r\n",
      "0.5                            ## [24] [max_shared_Is_locus]: Max # heterozygous sites per locus (R1, R2)\r\n",
      "0, 0                           ## [25] [edit_cutsites]: Edit cut-sites (R1, R2) (see docs)\r\n",
      "0, 0, 0, 0                     ## [26] [trim_overhang]: Trim overhang (see docs) (R1>, <R1, R2>, <R2)\r\n",
      "*                     ## [27] [output_formats]: Output formats (see docs)\r\n",
      "                               ## [28] [pop_assign_file]: Path to population assignment file"
     ]
    }
   ],
   "source": [
    "!cat params-data1.txt"
   ]
  },
  {
   "cell_type": "code",
   "execution_count": 8,
   "metadata": {
    "collapsed": false
   },
   "outputs": [
    {
     "name": "stdout",
     "output_type": "stream",
     "text": [
      "\n",
      " -------------------------------------------------------------\n",
      "  ipyrad [v.0.5.15]\n",
      "  Interactive assembly and analysis of RAD-seq data\n",
      " -------------------------------------------------------------\n",
      "  New Assembly: data1\n",
      "  local compute node: [16 cores] on hummingbird.fish.washington.edu\n",
      "\n",
      "  Step 1: Loading sorted fastq data to Samples\n",
      "  [####################] 100%  loading reads         | 0:03:34  \n",
      "  112 fastq files loaded to 56 Samples.\n",
      "\n",
      "  Step 2: Filtering reads \n",
      "  [####################] 100%  processing reads      | 0:52:29  \n",
      "\n",
      "  Step 3: Clustering/Mapping reads\n",
      "    *************************************************************\n",
      "    Indexing reference sequence with bwa. \n",
      "    This only needs to be done once, and takes just a few minutes\n",
      "    ************************************************************* \n",
      "ERROR:ipyrad.core.assembly:IPyradWarningExit: \n",
      "    Reference sequence must be uncompressed fasta or bgzip compressed,\n",
      "    your file is probably gzip compressed. The simplest fix is to gunzip\n",
      "    your reference sequence by running this command:\n",
      "\n",
      "        gunzip /Volumes/toaster/jdimond/Branching-Porites/data/Sym_genome/GCA_001939145.1_ASM193914v1_genomic.fna.gz\n",
      "\n",
      "    Then edit your params file to remove the `.gz` from the end of the\n",
      "    path to your reference sequence file and rerun step 3 with the `-f` flag.\n",
      "    \n",
      "\n",
      "  Encountered an error, see ./ipyrad_log.txt. \n",
      "  \n",
      "    Reference sequence must be uncompressed fasta or bgzip compressed,\n",
      "    your file is probably gzip compressed. The simplest fix is to gunzip\n",
      "    your reference sequence by running this command:\n",
      "\n",
      "        gunzip /Volumes/toaster/jdimond/Branching-Porites/data/Sym_genome/GCA_001939145.1_ASM193914v1_genomic.fna.gz\n",
      "\n",
      "    Then edit your params file to remove the `.gz` from the end of the\n",
      "    path to your reference sequence file and rerun step 3 with the `-f` flag.\n",
      "    \n",
      "\n"
     ]
    }
   ],
   "source": [
    "!ipyrad -p params-data1.txt -s 1234567"
   ]
  },
  {
   "cell_type": "code",
   "execution_count": 10,
   "metadata": {
    "collapsed": false
   },
   "outputs": [
    {
     "name": "stdout",
     "output_type": "stream",
     "text": [
      "\n",
      " -------------------------------------------------------------\n",
      "  ipyrad [v.0.5.15]\n",
      "  Interactive assembly and analysis of RAD-seq data\n",
      " -------------------------------------------------------------\n",
      "  loading Assembly: data1\n",
      "  from saved path: /Volumes/toaster/jdimond/Branching-Porites/analyses/ipyrad_analysis/data1.json\n",
      "  local compute node: [16 cores] on hummingbird.fish.washington.edu\n",
      "\n",
      "  Step 3: Clustering/Mapping reads\n",
      "    *************************************************************\n",
      "    Indexing reference sequence with bwa. \n",
      "    This only needs to be done once, and takes just a few minutes\n",
      "    ************************************************************* \n",
      "    Done indexing reference sequence\n",
      "  [####################] 100%  dereplicating         | 1:18:56  \n",
      "  [####################] 100%  mapping               | 4:52:05  \n",
      "  [####################] 100%  clustering            | 0:19:19  \n",
      "  [####################] 100%  building clusters     | 0:03:26  \n",
      "  [####################] 100%  chunking              | 0:00:24  \n",
      "  [####################] 100%  aligning              | 9:44:43  \n",
      "  [####################] 100%  concatenating         | 0:03:44  \n",
      "\n",
      "  Step 4: Joint estimation of error rate and heterozygosity\n",
      "  [####################] 100%  inferring [H, E]      | 6:22:59  \n",
      "\n",
      "  Step 5: Consensus base calling \n",
      "  Mean error  [0.00220 sd=0.00128]\n",
      "  Mean hetero [0.00888 sd=0.00182]\n",
      "  [####################] 100%  calculating depths    | 0:02:18  \n",
      "  [####################] 100%  chunking clusters     | 0:04:15  \n",
      "  [####################] 100%  consens calling       | 2:08:38  \n",
      "\n",
      "  Step 6: Clustering at 0.9 similarity across 56 samples\n",
      "  [####################] 100%  concat/shuffle input  | 0:00:54  \n",
      "  [####################] 100%  clustering across     | 0:09:33  \n",
      "  [####################] 100%  building clusters     | 0:01:27  \n",
      "  [####################] 100%  aligning clusters     | 0:17:23  \n",
      "  [####################] 100%  database indels       | 0:04:49  \n",
      "  [####################] 100%  indexing clusters     | 0:15:39  \n",
      "  [####################] 100%  building database     | 0:16:07  \n",
      "\n",
      "  Step 7: Filter and write output files for 56 Samples\n",
      "  [####################] 100%  filtering loci        | 0:00:31  \n",
      "  [####################] 100%  building loci/stats   | 0:00:04  \n",
      "  [####################] 100%  building vcf file     | 0:00:34  \n",
      "  [####################] 100%  writing vcf file      | 0:00:00  \n",
      "  [####################] 100%  building arrays       | 0:00:05  \n",
      "  [####################] 100%  writing outfiles      | 0:03:01  \n",
      "  Outfiles written to: /Volumes/toaster/jdimond/Branching-Porites/analyses/ipyrad_analysis/data1_outfiles\n",
      "\n"
     ]
    }
   ],
   "source": [
    "!ipyrad -p params-data1.txt -f -s 34567"
   ]
  },
  {
   "cell_type": "code",
   "execution_count": null,
   "metadata": {
    "collapsed": true
   },
   "outputs": [],
   "source": []
  }
 ],
 "metadata": {
  "anaconda-cloud": {},
  "kernelspec": {
   "display_name": "Python [default]",
   "language": "python",
   "name": "python2"
  },
  "language_info": {
   "codemirror_mode": {
    "name": "ipython",
    "version": 2
   },
   "file_extension": ".py",
   "mimetype": "text/x-python",
   "name": "python",
   "nbconvert_exporter": "python",
   "pygments_lexer": "ipython2",
   "version": "2.7.12"
  }
 },
 "nbformat": 4,
 "nbformat_minor": 0
}
