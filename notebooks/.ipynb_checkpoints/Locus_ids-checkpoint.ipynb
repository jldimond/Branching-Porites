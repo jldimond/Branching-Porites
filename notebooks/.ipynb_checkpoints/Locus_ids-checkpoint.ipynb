{
 "cells": [
  {
   "cell_type": "markdown",
   "metadata": {},
   "source": [
    "# This notebook extracts unique locus IDs from the data3.snps.map file"
   ]
  },
  {
   "cell_type": "code",
   "execution_count": 1,
   "metadata": {
    "collapsed": false
   },
   "outputs": [
    {
     "name": "stdout",
     "output_type": "stream",
     "text": [
      "/Users/jd/Documents/Projects/PoritesRADseq/Branching-Porites/analyses/ipyrad_analysis/data3_outfiles\n"
     ]
    }
   ],
   "source": [
    "cd ../analyses/ipyrad_analysis/data3_outfiles/"
   ]
  },
  {
   "cell_type": "code",
   "execution_count": 2,
   "metadata": {
    "collapsed": false
   },
   "outputs": [
    {
     "name": "stdout",
     "output_type": "stream",
     "text": [
      "1\trad36_snp0\t0\t1\r\n",
      "2\trad45_snp0\t0\t2\r\n",
      "2\trad45_snp1\t0\t3\r\n",
      "2\trad45_snp2\t0\t4\r\n",
      "2\trad45_snp3\t0\t5\r\n",
      "2\trad45_snp4\t0\t6\r\n",
      "2\trad45_snp5\t0\t7\r\n",
      "2\trad45_snp6\t0\t8\r\n",
      "3\trad49_snp0\t0\t9\r\n",
      "3\trad49_snp1\t0\t10\r\n"
     ]
    }
   ],
   "source": [
    "!head data3.snps.map"
   ]
  },
  {
   "cell_type": "code",
   "execution_count": 3,
   "metadata": {
    "collapsed": true
   },
   "outputs": [],
   "source": [
    "!awk '{ print $2 }' data3.snps.map > loc_id.txt | head loc_id.txt"
   ]
  },
  {
   "cell_type": "code",
   "execution_count": 21,
   "metadata": {
    "collapsed": false
   },
   "outputs": [
    {
     "name": "stdout",
     "output_type": "stream",
     "text": [
      "rad36_snp0\r\n",
      "rad45_snp0\r\n",
      "rad45_snp1\r\n",
      "rad45_snp2\r\n",
      "rad45_snp3\r\n",
      "rad45_snp4\r\n",
      "rad45_snp5\r\n",
      "rad45_snp6\r\n",
      "rad49_snp0\r\n",
      "rad49_snp1\r\n"
     ]
    }
   ],
   "source": [
    "!head loc_id.txt"
   ]
  },
  {
   "cell_type": "code",
   "execution_count": 30,
   "metadata": {
    "collapsed": false
   },
   "outputs": [],
   "source": [
    "!sed 's/_snp[0-9]*//g' loc_id.txt > loc_id2.txt"
   ]
  },
  {
   "cell_type": "code",
   "execution_count": 31,
   "metadata": {
    "collapsed": false
   },
   "outputs": [
    {
     "name": "stdout",
     "output_type": "stream",
     "text": [
      "rad36\r\n",
      "rad45\r\n",
      "rad45\r\n",
      "rad45\r\n",
      "rad45\r\n",
      "rad45\r\n",
      "rad45\r\n",
      "rad45\r\n",
      "rad49\r\n",
      "rad49\r\n"
     ]
    }
   ],
   "source": [
    "!head loc_id2.txt"
   ]
  },
  {
   "cell_type": "code",
   "execution_count": 32,
   "metadata": {
    "collapsed": true
   },
   "outputs": [],
   "source": [
    "!sed 's/[^0-9]*//g' loc_id2.txt > loc_id3.txt"
   ]
  },
  {
   "cell_type": "code",
   "execution_count": 33,
   "metadata": {
    "collapsed": false
   },
   "outputs": [
    {
     "name": "stdout",
     "output_type": "stream",
     "text": [
      "36\r\n",
      "45\r\n",
      "45\r\n",
      "45\r\n",
      "45\r\n",
      "45\r\n",
      "45\r\n",
      "45\r\n",
      "49\r\n",
      "49\r\n"
     ]
    }
   ],
   "source": [
    "!head loc_id3.txt"
   ]
  },
  {
   "cell_type": "code",
   "execution_count": 34,
   "metadata": {
    "collapsed": false
   },
   "outputs": [
    {
     "name": "stdout",
     "output_type": "stream",
     "text": [
      "141677\r\n",
      "141677\r\n",
      "141677\r\n",
      "141677\r\n",
      "141677\r\n",
      "141677\r\n",
      "141677\r\n",
      "141677\r\n",
      "141677\r\n",
      "141677\r\n"
     ]
    }
   ],
   "source": [
    "!tail loc_id3.txt"
   ]
  },
  {
   "cell_type": "code",
   "execution_count": 35,
   "metadata": {
    "collapsed": true
   },
   "outputs": [],
   "source": [
    "!uniq loc_id3.txt > loc_id4.txt"
   ]
  },
  {
   "cell_type": "code",
   "execution_count": 38,
   "metadata": {
    "collapsed": false
   },
   "outputs": [
    {
     "name": "stdout",
     "output_type": "stream",
     "text": [
      "36\r\n",
      "45\r\n",
      "49\r\n",
      "58\r\n",
      "65\r\n",
      "71\r\n",
      "79\r\n",
      "80\r\n",
      "87\r\n",
      "95\r\n"
     ]
    }
   ],
   "source": [
    "!head loc_id4.txt "
   ]
  },
  {
   "cell_type": "code",
   "execution_count": 37,
   "metadata": {
    "collapsed": false
   },
   "outputs": [
    {
     "name": "stdout",
     "output_type": "stream",
     "text": [
      "   11822   11822   73251 loc_id4.txt\r\n"
     ]
    }
   ],
   "source": [
    "!wc loc_id4.txt"
   ]
  },
  {
   "cell_type": "code",
   "execution_count": null,
   "metadata": {
    "collapsed": true
   },
   "outputs": [],
   "source": []
  }
 ],
 "metadata": {
  "kernelspec": {
   "display_name": "Python [Root]",
   "language": "python",
   "name": "Python [Root]"
  },
  "language_info": {
   "codemirror_mode": {
    "name": "ipython",
    "version": 2
   },
   "file_extension": ".py",
   "mimetype": "text/x-python",
   "name": "python",
   "nbconvert_exporter": "python",
   "pygments_lexer": "ipython2",
   "version": "2.7.12"
  }
 },
 "nbformat": 4,
 "nbformat_minor": 0
}
